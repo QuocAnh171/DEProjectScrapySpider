{
 "cells": [
  {
   "cell_type": "code",
   "execution_count": 1,
   "metadata": {},
   "outputs": [],
   "source": [
    "import pyspark\n",
    "from pyspark.sql import SparkSession\n",
    "from pyspark.sql import types\n",
    "import pandas as pd\n",
    "spark = SparkSession.builder \\\n",
    "    .master(\"local[*]\") \\\n",
    "    .appName('test') \\\n",
    "    .getOrCreate()"
   ]
  },
  {
   "cell_type": "code",
   "execution_count": 2,
   "metadata": {},
   "outputs": [],
   "source": [
    "df_xoso = spark.read.options(inferSchema = 'True', header = 'True').csv(\"xoso_2024-10-10.csv\")"
   ]
  },
  {
   "cell_type": "code",
   "execution_count": 3,
   "metadata": {},
   "outputs": [
    {
     "name": "stdout",
     "output_type": "stream",
     "text": [
      "+----------+--------------------+\n",
      "|    cob_dt|         list_result|\n",
      "+----------+--------------------+\n",
      "|01-10-2023|03,06,07,08,15,23...|\n",
      "|02-10-2023|00,02,09,11,27,32...|\n",
      "|03-10-2023|00,05,15,18,19,23...|\n",
      "|04-10-2023|00,07,11,16,27,28...|\n",
      "|05-10-2023|01,02,03,07,10,14...|\n",
      "|06-10-2023|02,07,08,09,16,17...|\n",
      "|07-10-2023|06,10,11,12,13,18...|\n",
      "|08-10-2023|00,02,05,14,18,20...|\n",
      "|09-10-2023|03,04,11,17,19,25...|\n",
      "|10-10-2023|04,13,18,19,21,22...|\n",
      "+----------+--------------------+\n",
      "only showing top 10 rows\n",
      "\n"
     ]
    }
   ],
   "source": [
    "df_xoso.show(10)"
   ]
  },
  {
   "cell_type": "code",
   "execution_count": 4,
   "metadata": {},
   "outputs": [],
   "source": [
    "from pyspark.sql import functions as F"
   ]
  },
  {
   "cell_type": "code",
   "execution_count": 5,
   "metadata": {},
   "outputs": [],
   "source": [
    "list_number = ['00', '01', '02', '03', '04', '05', '06', '07', '08', '09']\n",
    "\n",
    "for i in range(10, 100):\n",
    "    list_number.append(str(i))"
   ]
  },
  {
   "cell_type": "code",
   "execution_count": 6,
   "metadata": {},
   "outputs": [
    {
     "name": "stdout",
     "output_type": "stream",
     "text": [
      "['00', '01', '02', '03', '04', '05', '06', '07', '08', '09', '10', '11', '12', '13', '14', '15', '16', '17', '18', '19', '20', '21', '22', '23', '24', '25', '26', '27', '28', '29', '30', '31', '32', '33', '34', '35', '36', '37', '38', '39', '40', '41', '42', '43', '44', '45', '46', '47', '48', '49', '50', '51', '52', '53', '54', '55', '56', '57', '58', '59', '60', '61', '62', '63', '64', '65', '66', '67', '68', '69', '70', '71', '72', '73', '74', '75', '76', '77', '78', '79', '80', '81', '82', '83', '84', '85', '86', '87', '88', '89', '90', '91', '92', '93', '94', '95', '96', '97', '98', '99']\n"
     ]
    }
   ],
   "source": [
    "print(list_number)"
   ]
  },
  {
   "cell_type": "code",
   "execution_count": 7,
   "metadata": {},
   "outputs": [],
   "source": [
    "df_xoso.createOrReplaceTempView(\"xoso_table\")"
   ]
  },
  {
   "cell_type": "code",
   "execution_count": 51,
   "metadata": {},
   "outputs": [
    {
     "name": "stdout",
     "output_type": "stream",
     "text": [
      "+-------------+\n",
      "|count(cob_dt)|\n",
      "+-------------+\n",
      "|          375|\n",
      "+-------------+\n",
      "\n"
     ]
    }
   ],
   "source": [
    "query = \"\"\"\n",
    "    SELECT COUNT(cob_dt)\n",
    "    FROM xoso_table;\n",
    "\"\"\"\n",
    "\n",
    "# Bước 3: Thực thi truy vấn SQL\n",
    "df_count_time = spark.sql(query)\n",
    "\n",
    "# Hiển thị kết quả\n",
    "df_count_time.show()"
   ]
  },
  {
   "cell_type": "code",
   "execution_count": 19,
   "metadata": {},
   "outputs": [
    {
     "name": "stdout",
     "output_type": "stream",
     "text": [
      "+--------+\n",
      "|count_03|\n",
      "+--------+\n",
      "|      95|\n",
      "+--------+\n",
      "\n"
     ]
    }
   ],
   "source": [
    "query = \"\"\"\n",
    "    SELECT COUNT(*) AS count_03\n",
    "    FROM xoso_table\n",
    "    WHERE list_result like '%03%';\n",
    "\"\"\"\n",
    "\n",
    "# Bước 3: Thực thi truy vấn SQL\n",
    "result_df = spark.sql(query)\n",
    "\n",
    "# Hiển thị kết quả\n",
    "result_df.show()"
   ]
  },
  {
   "cell_type": "code",
   "execution_count": 21,
   "metadata": {},
   "outputs": [
    {
     "name": "stdout",
     "output_type": "stream",
     "text": [
      "95\n"
     ]
    }
   ],
   "source": [
    "count_number = result_df.first()\n",
    "count_number = count_number['count_03']\n",
    "print(count_number)"
   ]
  },
  {
   "cell_type": "code",
   "execution_count": 10,
   "metadata": {},
   "outputs": [],
   "source": [
    "from pyspark.sql import SparkSession, Row"
   ]
  },
  {
   "cell_type": "code",
   "execution_count": 8,
   "metadata": {},
   "outputs": [
    {
     "name": "stdout",
     "output_type": "stream",
     "text": [
      "[{'number': '00', 'count_number': 83}, {'number': '01', 'count_number': 75}, {'number': '02', 'count_number': 86}, {'number': '03', 'count_number': 95}, {'number': '04', 'count_number': 81}, {'number': '05', 'count_number': 74}, {'number': '06', 'count_number': 86}, {'number': '07', 'count_number': 89}, {'number': '08', 'count_number': 81}, {'number': '09', 'count_number': 81}, {'number': '10', 'count_number': 102}, {'number': '11', 'count_number': 98}, {'number': '12', 'count_number': 90}, {'number': '13', 'count_number': 95}, {'number': '14', 'count_number': 91}, {'number': '15', 'count_number': 90}, {'number': '16', 'count_number': 96}, {'number': '17', 'count_number': 82}, {'number': '18', 'count_number': 94}, {'number': '19', 'count_number': 92}, {'number': '20', 'count_number': 100}, {'number': '21', 'count_number': 95}, {'number': '22', 'count_number': 101}, {'number': '23', 'count_number': 89}, {'number': '24', 'count_number': 91}, {'number': '25', 'count_number': 97}, {'number': '26', 'count_number': 92}, {'number': '27', 'count_number': 88}, {'number': '28', 'count_number': 81}, {'number': '29', 'count_number': 94}, {'number': '30', 'count_number': 79}, {'number': '31', 'count_number': 79}, {'number': '32', 'count_number': 113}, {'number': '33', 'count_number': 87}, {'number': '34', 'count_number': 62}, {'number': '35', 'count_number': 90}, {'number': '36', 'count_number': 99}, {'number': '37', 'count_number': 83}, {'number': '38', 'count_number': 70}, {'number': '39', 'count_number': 93}, {'number': '40', 'count_number': 87}, {'number': '41', 'count_number': 95}, {'number': '42', 'count_number': 91}, {'number': '43', 'count_number': 97}, {'number': '44', 'count_number': 93}, {'number': '45', 'count_number': 98}, {'number': '46', 'count_number': 79}, {'number': '47', 'count_number': 88}, {'number': '48', 'count_number': 78}, {'number': '49', 'count_number': 113}, {'number': '50', 'count_number': 85}, {'number': '51', 'count_number': 72}, {'number': '52', 'count_number': 110}, {'number': '53', 'count_number': 85}, {'number': '54', 'count_number': 78}, {'number': '55', 'count_number': 81}, {'number': '56', 'count_number': 92}, {'number': '57', 'count_number': 79}, {'number': '58', 'count_number': 72}, {'number': '59', 'count_number': 105}, {'number': '60', 'count_number': 80}, {'number': '61', 'count_number': 103}, {'number': '62', 'count_number': 90}, {'number': '63', 'count_number': 95}, {'number': '64', 'count_number': 77}, {'number': '65', 'count_number': 92}, {'number': '66', 'count_number': 96}, {'number': '67', 'count_number': 86}, {'number': '68', 'count_number': 81}, {'number': '69', 'count_number': 97}, {'number': '70', 'count_number': 89}, {'number': '71', 'count_number': 77}, {'number': '72', 'count_number': 98}, {'number': '73', 'count_number': 97}, {'number': '74', 'count_number': 82}, {'number': '75', 'count_number': 88}, {'number': '76', 'count_number': 98}, {'number': '77', 'count_number': 83}, {'number': '78', 'count_number': 86}, {'number': '79', 'count_number': 105}, {'number': '80', 'count_number': 83}, {'number': '81', 'count_number': 92}, {'number': '82', 'count_number': 98}, {'number': '83', 'count_number': 82}, {'number': '84', 'count_number': 83}, {'number': '85', 'count_number': 74}, {'number': '86', 'count_number': 90}, {'number': '87', 'count_number': 82}, {'number': '88', 'count_number': 79}, {'number': '89', 'count_number': 102}, {'number': '90', 'count_number': 111}, {'number': '91', 'count_number': 81}, {'number': '92', 'count_number': 90}, {'number': '93', 'count_number': 85}, {'number': '94', 'count_number': 91}, {'number': '95', 'count_number': 86}, {'number': '96', 'count_number': 99}, {'number': '97', 'count_number': 94}, {'number': '98', 'count_number': 92}, {'number': '99', 'count_number': 95}]\n"
     ]
    }
   ],
   "source": [
    "list_result_count = list()\n",
    "for number in list_number:\n",
    "    query = f\"\"\"\n",
    "        SELECT COUNT(*) AS count_number\n",
    "        FROM xoso_table\n",
    "        WHERE list_result like '%{number}%';\n",
    "    \"\"\"\n",
    "\n",
    "    # Bước 3: Thực thi truy vấn SQL\n",
    "    result_df = spark.sql(query)\n",
    "    count_number = result_df.first()['count_number']\n",
    "    list_result_count.append({\n",
    "        'number' : number,\n",
    "        'count_number': count_number\n",
    "    })\n",
    "\n",
    "print(list_result_count)"
   ]
  },
  {
   "cell_type": "code",
   "execution_count": 11,
   "metadata": {},
   "outputs": [],
   "source": [
    "data = list()\n",
    "\n",
    "for i in list_result_count:\n",
    "    data.append(Row(keyword=i['number'], count=i['count_number']))"
   ]
  },
  {
   "cell_type": "code",
   "execution_count": 12,
   "metadata": {},
   "outputs": [],
   "source": [
    "df = spark.createDataFrame(data)"
   ]
  },
  {
   "cell_type": "code",
   "execution_count": 13,
   "metadata": {},
   "outputs": [
    {
     "name": "stdout",
     "output_type": "stream",
     "text": [
      "+-------+-----+\n",
      "|keyword|count|\n",
      "+-------+-----+\n",
      "|     00|   83|\n",
      "|     01|   75|\n",
      "|     02|   86|\n",
      "|     03|   95|\n",
      "|     04|   81|\n",
      "|     05|   74|\n",
      "|     06|   86|\n",
      "|     07|   89|\n",
      "|     08|   81|\n",
      "|     09|   81|\n",
      "|     10|  102|\n",
      "|     11|   98|\n",
      "|     12|   90|\n",
      "|     13|   95|\n",
      "|     14|   91|\n",
      "|     15|   90|\n",
      "|     16|   96|\n",
      "|     17|   82|\n",
      "|     18|   94|\n",
      "|     19|   92|\n",
      "+-------+-----+\n",
      "only showing top 20 rows\n",
      "\n"
     ]
    }
   ],
   "source": [
    "df.show()"
   ]
  }
 ],
 "metadata": {
  "kernelspec": {
   "display_name": "Python 3",
   "language": "python",
   "name": "python3"
  },
  "language_info": {
   "codemirror_mode": {
    "name": "ipython",
    "version": 3
   },
   "file_extension": ".py",
   "mimetype": "text/x-python",
   "name": "python",
   "nbconvert_exporter": "python",
   "pygments_lexer": "ipython3",
   "version": "3.10.10"
  }
 },
 "nbformat": 4,
 "nbformat_minor": 2
}
