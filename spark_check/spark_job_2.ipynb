{
 "cells": [
  {
   "cell_type": "code",
   "execution_count": 1,
   "metadata": {},
   "outputs": [],
   "source": [
    "import pyspark\n",
    "from pyspark.sql import SparkSession\n",
    "from pyspark.sql import types\n",
    "import pandas as pd\n",
    "spark = SparkSession.builder \\\n",
    "    .master(\"local[*]\") \\\n",
    "    .appName('test2') \\\n",
    "    .getOrCreate()"
   ]
  },
  {
   "cell_type": "code",
   "execution_count": 2,
   "metadata": {},
   "outputs": [],
   "source": [
    "df_xoso = spark.read.options(inferSchema = 'True', header = 'True').csv(\"output.csv\")"
   ]
  },
  {
   "cell_type": "code",
   "execution_count": 3,
   "metadata": {},
   "outputs": [],
   "source": [
    "df_xoso.createOrReplaceTempView(\"xoso_count_table\")"
   ]
  },
  {
   "cell_type": "code",
   "execution_count": 5,
   "metadata": {},
   "outputs": [
    {
     "name": "stdout",
     "output_type": "stream",
     "text": [
      "+------+------------+\n",
      "|number|count_number|\n",
      "+------+------------+\n",
      "|    32|         113|\n",
      "|    49|         113|\n",
      "|    90|         111|\n",
      "|    52|         110|\n",
      "|    59|         105|\n",
      "|    79|         105|\n",
      "|    61|         103|\n",
      "|    10|         102|\n",
      "|    89|         102|\n",
      "|    22|         101|\n",
      "|    20|         100|\n",
      "|    36|          99|\n",
      "|    96|          99|\n",
      "|    45|          98|\n",
      "|    11|          98|\n",
      "|    82|          98|\n",
      "|    72|          98|\n",
      "|    76|          98|\n",
      "|    25|          97|\n",
      "|    43|          97|\n",
      "+------+------------+\n",
      "only showing top 20 rows\n",
      "\n"
     ]
    }
   ],
   "source": [
    "query = \"\"\"\n",
    "    SELECT *\n",
    "    FROM xoso_count_table\n",
    "    order by count_number DESC;\n",
    "\"\"\"\n",
    "\n",
    "# Bước 3: Thực thi truy vấn SQL\n",
    "result_df = spark.sql(query)\n",
    "\n",
    "# Hiển thị kết quả\n",
    "result_df.show()"
   ]
  }
 ],
 "metadata": {
  "kernelspec": {
   "display_name": "Python 3",
   "language": "python",
   "name": "python3"
  },
  "language_info": {
   "codemirror_mode": {
    "name": "ipython",
    "version": 3
   },
   "file_extension": ".py",
   "mimetype": "text/x-python",
   "name": "python",
   "nbconvert_exporter": "python",
   "pygments_lexer": "ipython3",
   "version": "3.11.6"
  }
 },
 "nbformat": 4,
 "nbformat_minor": 2
}
