{
 "cells": [
  {
   "cell_type": "code",
   "execution_count": 1,
   "metadata": {},
   "outputs": [],
   "source": [
    "import pyspark\n",
    "from pyspark.sql import SparkSession\n",
    "from pyspark.sql import types\n",
    "import pandas as pd\n",
    "spark = SparkSession.builder \\\n",
    "    .master(\"local[*]\") \\\n",
    "    .appName('test') \\\n",
    "    .getOrCreate()"
   ]
  },
  {
   "cell_type": "code",
   "execution_count": 2,
   "metadata": {},
   "outputs": [],
   "source": [
    "df_xoso = spark.read.options(inferSchema = 'True', header = 'True').csv(\"xoso_2024-10-10.csv\")"
   ]
  },
  {
   "cell_type": "code",
   "execution_count": 3,
   "metadata": {},
   "outputs": [
    {
     "name": "stdout",
     "output_type": "stream",
     "text": [
      "+----------+--------------------+\n",
      "|    cob_dt|         list_result|\n",
      "+----------+--------------------+\n",
      "|01-10-2023|03,06,07,08,15,23...|\n",
      "|02-10-2023|00,02,09,11,27,32...|\n",
      "|03-10-2023|00,05,15,18,19,23...|\n",
      "|04-10-2023|00,07,11,16,27,28...|\n",
      "|05-10-2023|01,02,03,07,10,14...|\n",
      "|06-10-2023|02,07,08,09,16,17...|\n",
      "|07-10-2023|06,10,11,12,13,18...|\n",
      "|08-10-2023|00,02,05,14,18,20...|\n",
      "|09-10-2023|03,04,11,17,19,25...|\n",
      "|10-10-2023|04,13,18,19,21,22...|\n",
      "+----------+--------------------+\n",
      "only showing top 10 rows\n",
      "\n"
     ]
    }
   ],
   "source": [
    "df_xoso.show(10)"
   ]
  },
  {
   "cell_type": "code",
   "execution_count": 5,
   "metadata": {},
   "outputs": [],
   "source": [
    "from pyspark.sql import functions as F"
   ]
  },
  {
   "cell_type": "code",
   "execution_count": 6,
   "metadata": {},
   "outputs": [],
   "source": [
    "df_split = df_xoso.withColumn(\"list_result\", F.split(F.col(\"list_result\"), \",\"))"
   ]
  },
  {
   "cell_type": "code",
   "execution_count": 7,
   "metadata": {},
   "outputs": [
    {
     "name": "stdout",
     "output_type": "stream",
     "text": [
      "+----------+--------------------+\n",
      "|    cob_dt|         list_result|\n",
      "+----------+--------------------+\n",
      "|01-10-2023|[03, 06, 07, 08, ...|\n",
      "|02-10-2023|[00, 02, 09, 11, ...|\n",
      "|03-10-2023|[00, 05, 15, 18, ...|\n",
      "|04-10-2023|[00, 07, 11, 16, ...|\n",
      "|05-10-2023|[01, 02, 03, 07, ...|\n",
      "|06-10-2023|[02, 07, 08, 09, ...|\n",
      "|07-10-2023|[06, 10, 11, 12, ...|\n",
      "|08-10-2023|[00, 02, 05, 14, ...|\n",
      "|09-10-2023|[03, 04, 11, 17, ...|\n",
      "|10-10-2023|[04, 13, 18, 19, ...|\n",
      "|11-10-2023|[01, 06, 11, 19, ...|\n",
      "|12-10-2023|[02, 03, 12, 20, ...|\n",
      "|13-10-2023|[08, 09, 17, 19, ...|\n",
      "|14-10-2023|[00, 03, 21, 24, ...|\n",
      "|15-10-2023|[13, 24, 26, 29, ...|\n",
      "|16-10-2023|[00, 06, 13, 15, ...|\n",
      "|17-10-2023|[03, 06, 07, 10, ...|\n",
      "|18-10-2023|[00, 04, 08, 09, ...|\n",
      "|19-10-2023|[03, 04, 05, 06, ...|\n",
      "|20-10-2023|[02, 03, 13, 15, ...|\n",
      "+----------+--------------------+\n",
      "only showing top 20 rows\n",
      "\n"
     ]
    }
   ],
   "source": [
    "df_split.show()"
   ]
  },
  {
   "cell_type": "code",
   "execution_count": 9,
   "metadata": {},
   "outputs": [
    {
     "name": "stdout",
     "output_type": "stream",
     "text": [
      "root\n",
      " |-- cob_dt: string (nullable = true)\n",
      " |-- list_result: string (nullable = true)\n",
      "\n"
     ]
    }
   ],
   "source": [
    "df_xoso.printSchema()"
   ]
  },
  {
   "cell_type": "code",
   "execution_count": 10,
   "metadata": {},
   "outputs": [
    {
     "name": "stdout",
     "output_type": "stream",
     "text": [
      "root\n",
      " |-- cob_dt: string (nullable = true)\n",
      " |-- list_result: array (nullable = true)\n",
      " |    |-- element: string (containsNull = false)\n",
      "\n"
     ]
    }
   ],
   "source": [
    "df_split.printSchema()"
   ]
  },
  {
   "cell_type": "code",
   "execution_count": 14,
   "metadata": {},
   "outputs": [],
   "source": [
    "from pyspark.sql.functions import explode, explode_outer"
   ]
  },
  {
   "cell_type": "code",
   "execution_count": 15,
   "metadata": {},
   "outputs": [
    {
     "name": "stdout",
     "output_type": "stream",
     "text": [
      "root\n",
      " |-- cob_dt: string (nullable = true)\n",
      " |-- col: string (nullable = true)\n",
      "\n",
      "+----------+---+\n",
      "|    cob_dt|col|\n",
      "+----------+---+\n",
      "|01-10-2023| 03|\n",
      "|01-10-2023| 06|\n",
      "|01-10-2023| 07|\n",
      "|01-10-2023| 08|\n",
      "|01-10-2023| 15|\n",
      "|01-10-2023| 23|\n",
      "|01-10-2023| 25|\n",
      "|01-10-2023| 29|\n",
      "|01-10-2023| 32|\n",
      "|01-10-2023| 33|\n",
      "+----------+---+\n",
      "only showing top 10 rows\n",
      "\n"
     ]
    }
   ],
   "source": [
    "df2 = df_split.select(df_split.cob_dt,explode_outer(df_split.list_result))\n",
    "df2.printSchema()\n",
    "df2.show(10)"
   ]
  },
  {
   "cell_type": "code",
   "execution_count": 16,
   "metadata": {},
   "outputs": [],
   "source": [
    "dict_data = dict()"
   ]
  },
  {
   "cell_type": "code",
   "execution_count": 17,
   "metadata": {},
   "outputs": [
    {
     "name": "stdout",
     "output_type": "stream",
     "text": [
      "{'main_number': '00', 'number_00': 0, 'number_01': 0, 'number_02': 0, 'number_03': 0, 'number_04': 0, 'number_05': 0, 'number_06': 0, 'number_07': 0, 'number_08': 0, 'number_09': 0, 'number_10': 0, 'number_11': 0, 'number_12': 0, 'number_13': 0, 'number_14': 0, 'number_15': 0, 'number_16': 0, 'number_17': 0, 'number_18': 0, 'number_19': 0, 'number_20': 0, 'number_21': 0, 'number_22': 0, 'number_23': 0, 'number_24': 0, 'number_25': 0, 'number_26': 0, 'number_27': 0, 'number_28': 0, 'number_29': 0, 'number_30': 0, 'number_31': 0, 'number_32': 0, 'number_33': 0, 'number_34': 0, 'number_35': 0, 'number_36': 0, 'number_37': 0, 'number_38': 0, 'number_39': 0, 'number_40': 0, 'number_41': 0, 'number_42': 0, 'number_43': 0, 'number_44': 0, 'number_45': 0, 'number_46': 0, 'number_47': 0, 'number_48': 0, 'number_49': 0, 'number_50': 0, 'number_51': 0, 'number_52': 0, 'number_53': 0, 'number_54': 0, 'number_55': 0, 'number_56': 0, 'number_57': 0, 'number_58': 0, 'number_59': 0, 'number_60': 0, 'number_61': 0, 'number_62': 0, 'number_63': 0, 'number_64': 0, 'number_65': 0, 'number_66': 0, 'number_67': 0, 'number_68': 0, 'number_69': 0, 'number_70': 0, 'number_71': 0, 'number_72': 0, 'number_73': 0, 'number_74': 0, 'number_75': 0, 'number_76': 0, 'number_77': 0, 'number_78': 0, 'number_79': 0, 'number_80': 0, 'number_81': 0, 'number_82': 0, 'number_83': 0, 'number_84': 0, 'number_85': 0, 'number_86': 0, 'number_87': 0, 'number_88': 0, 'number_89': 0, 'number_90': 0, 'number_91': 0, 'number_92': 0, 'number_93': 0, 'number_94': 0, 'number_95': 0, 'number_96': 0, 'number_97': 0, 'number_98': 0, 'number_99': 0}\n"
     ]
    }
   ],
   "source": [
    "dict_data[\"main_number\"] = \"00\"\n",
    "dict_data[\"number_00\"] = 0\n",
    "for i in range(0,100):\n",
    "    if i in range(0,10):\n",
    "        dict_data[\"number_0\" + str(i)] = 0\n",
    "    else:\n",
    "        dict_data[\"number_\" + str(i)] = 0\n",
    "print(dict_data)"
   ]
  },
  {
   "cell_type": "code",
   "execution_count": 29,
   "metadata": {},
   "outputs": [],
   "source": [
    "import copy "
   ]
  },
  {
   "cell_type": "code",
   "execution_count": 31,
   "metadata": {},
   "outputs": [],
   "source": [
    "list_data_xs = list()\n",
    "list_data_xs.append(dict_data)\n",
    "for i in range(1,100):\n",
    "    dict_copy = copy.deepcopy(dict_data)  \n",
    "    if i in range(0,10):\n",
    "        dict_copy[\"main_number\"] = \"0\" + str(i)\n",
    "    else:\n",
    "        dict_copy[\"main_number\"] = str(i)\n",
    "    list_data_xs.append(dict_copy)"
   ]
  },
  {
   "cell_type": "code",
   "execution_count": 28,
   "metadata": {},
   "outputs": [
    {
     "name": "stdout",
     "output_type": "stream",
     "text": [
      "{'main_number': '00', 'number_00': 0, 'number_01': 0, 'number_02': 0, 'number_03': 0, 'number_04': 0, 'number_05': 0, 'number_06': 0, 'number_07': 0, 'number_08': 0, 'number_09': 0, 'number_10': 0, 'number_11': 0, 'number_12': 0, 'number_13': 0, 'number_14': 0, 'number_15': 0, 'number_16': 0, 'number_17': 0, 'number_18': 0, 'number_19': 0, 'number_20': 0, 'number_21': 0, 'number_22': 0, 'number_23': 0, 'number_24': 0, 'number_25': 0, 'number_26': 0, 'number_27': 0, 'number_28': 0, 'number_29': 0, 'number_30': 0, 'number_31': 0, 'number_32': 0, 'number_33': 0, 'number_34': 0, 'number_35': 0, 'number_36': 0, 'number_37': 0, 'number_38': 0, 'number_39': 0, 'number_40': 0, 'number_41': 0, 'number_42': 0, 'number_43': 0, 'number_44': 0, 'number_45': 0, 'number_46': 0, 'number_47': 0, 'number_48': 0, 'number_49': 0, 'number_50': 0, 'number_51': 0, 'number_52': 0, 'number_53': 0, 'number_54': 0, 'number_55': 0, 'number_56': 0, 'number_57': 0, 'number_58': 0, 'number_59': 0, 'number_60': 0, 'number_61': 0, 'number_62': 0, 'number_63': 0, 'number_64': 0, 'number_65': 0, 'number_66': 0, 'number_67': 0, 'number_68': 0, 'number_69': 0, 'number_70': 0, 'number_71': 0, 'number_72': 0, 'number_73': 0, 'number_74': 0, 'number_75': 0, 'number_76': 0, 'number_77': 0, 'number_78': 0, 'number_79': 0, 'number_80': 0, 'number_81': 0, 'number_82': 0, 'number_83': 0, 'number_84': 0, 'number_85': 0, 'number_86': 0, 'number_87': 0, 'number_88': 0, 'number_89': 0, 'number_90': 0, 'number_91': 0, 'number_92': 0, 'number_93': 0, 'number_94': 0, 'number_95': 0, 'number_96': 0, 'number_97': 0, 'number_98': 0, 'number_99': 0}\n"
     ]
    }
   ],
   "source": [
    "dict_data['main_number'] = \"00\"\n",
    "print(dict_data)"
   ]
  },
  {
   "cell_type": "code",
   "execution_count": 32,
   "metadata": {},
   "outputs": [
    {
     "name": "stdout",
     "output_type": "stream",
     "text": [
      "100\n"
     ]
    }
   ],
   "source": [
    "print(len(list_data_xs))"
   ]
  },
  {
   "cell_type": "code",
   "execution_count": 33,
   "metadata": {},
   "outputs": [
    {
     "name": "stdout",
     "output_type": "stream",
     "text": [
      "00\n",
      "01\n",
      "02\n",
      "03\n",
      "04\n",
      "05\n",
      "06\n",
      "07\n",
      "08\n",
      "09\n",
      "10\n",
      "11\n",
      "12\n",
      "13\n",
      "14\n",
      "15\n",
      "16\n",
      "17\n",
      "18\n",
      "19\n",
      "20\n",
      "21\n",
      "22\n",
      "23\n",
      "24\n",
      "25\n",
      "26\n",
      "27\n",
      "28\n",
      "29\n",
      "30\n",
      "31\n",
      "32\n",
      "33\n",
      "34\n",
      "35\n",
      "36\n",
      "37\n",
      "38\n",
      "39\n",
      "40\n",
      "41\n",
      "42\n",
      "43\n",
      "44\n",
      "45\n",
      "46\n",
      "47\n",
      "48\n",
      "49\n",
      "50\n",
      "51\n",
      "52\n",
      "53\n",
      "54\n",
      "55\n",
      "56\n",
      "57\n",
      "58\n",
      "59\n",
      "60\n",
      "61\n",
      "62\n",
      "63\n",
      "64\n",
      "65\n",
      "66\n",
      "67\n",
      "68\n",
      "69\n",
      "70\n",
      "71\n",
      "72\n",
      "73\n",
      "74\n",
      "75\n",
      "76\n",
      "77\n",
      "78\n",
      "79\n",
      "80\n",
      "81\n",
      "82\n",
      "83\n",
      "84\n",
      "85\n",
      "86\n",
      "87\n",
      "88\n",
      "89\n",
      "90\n",
      "91\n",
      "92\n",
      "93\n",
      "94\n",
      "95\n",
      "96\n",
      "97\n",
      "98\n",
      "99\n"
     ]
    }
   ],
   "source": [
    "for i in list_data_xs:\n",
    "    print(i['main_number'])"
   ]
  },
  {
   "cell_type": "code",
   "execution_count": null,
   "metadata": {},
   "outputs": [],
   "source": []
  }
 ],
 "metadata": {
  "kernelspec": {
   "display_name": "Python 3",
   "language": "python",
   "name": "python3"
  },
  "language_info": {
   "codemirror_mode": {
    "name": "ipython",
    "version": 3
   },
   "file_extension": ".py",
   "mimetype": "text/x-python",
   "name": "python",
   "nbconvert_exporter": "python",
   "pygments_lexer": "ipython3",
   "version": "3.11.6"
  }
 },
 "nbformat": 4,
 "nbformat_minor": 2
}
