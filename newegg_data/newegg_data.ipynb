{
 "cells": [
  {
   "cell_type": "code",
   "execution_count": 17,
   "id": "38c23483",
   "metadata": {},
   "outputs": [],
   "source": [
    "%run CommonFunction.ipynb\n",
    "import pandas as pd"
   ]
  },
  {
   "cell_type": "code",
   "execution_count": 18,
   "id": "b7169fae",
   "metadata": {},
   "outputs": [],
   "source": [
    "file_path = \"../newegg/data.csv\""
   ]
  },
  {
   "cell_type": "code",
   "execution_count": 19,
   "id": "c1185707",
   "metadata": {},
   "outputs": [],
   "source": [
    "df = pd.read_csv(file_path)"
   ]
  },
  {
   "cell_type": "code",
   "execution_count": 20,
   "id": "37b40678",
   "metadata": {},
   "outputs": [
    {
     "name": "stdout",
     "output_type": "stream",
     "text": [
      "The table has 3624 rows\n",
      "The table has 9 cols\n"
     ]
    }
   ],
   "source": [
    "table_shape(df)"
   ]
  },
  {
   "cell_type": "code",
   "execution_count": 21,
   "id": "5bf32447",
   "metadata": {},
   "outputs": [
    {
     "name": "stdout",
     "output_type": "stream",
     "text": [
      "Index(['itemID', 'title', 'brand', 'rating', 'number_rating', 'price', 'ship',\n",
      "       'image_url', 'product_des'],\n",
      "      dtype='object')\n",
      "itemID            object\n",
      "title             object\n",
      "brand             object\n",
      "rating           float64\n",
      "number_rating    float64\n",
      "price            float64\n",
      "ship              object\n",
      "image_url         object\n",
      "product_des       object\n",
      "dtype: object\n"
     ]
    }
   ],
   "source": [
    "col(df)"
   ]
  },
  {
   "cell_type": "code",
   "execution_count": 24,
   "id": "75f849ba",
   "metadata": {},
   "outputs": [
    {
     "name": "stdout",
     "output_type": "stream",
     "text": [
      "There are empty cells in the itemID  column\n",
      "There are empty cells in the title  column\n",
      "There are empty cells in the brand  column\n",
      "There are empty cells in the rating  column\n",
      "There are empty cells in the number_rating  column\n",
      "There are empty cells in the price  column\n",
      "There are empty cells in the ship  column\n",
      "There is no empty cell in  image_url column\n",
      "There is no empty cell in  product_des column\n"
     ]
    }
   ],
   "source": [
    "cols = df.columns\n",
    "for col in cols:\n",
    "    check_empty(df, col)"
   ]
  },
  {
   "cell_type": "code",
   "execution_count": 25,
   "id": "0e29f19c",
   "metadata": {},
   "outputs": [
    {
     "data": {
      "text/html": [
       "<div>\n",
       "<style scoped>\n",
       "    .dataframe tbody tr th:only-of-type {\n",
       "        vertical-align: middle;\n",
       "    }\n",
       "\n",
       "    .dataframe tbody tr th {\n",
       "        vertical-align: top;\n",
       "    }\n",
       "\n",
       "    .dataframe thead th {\n",
       "        text-align: right;\n",
       "    }\n",
       "</style>\n",
       "<table border=\"1\" class=\"dataframe\">\n",
       "  <thead>\n",
       "    <tr style=\"text-align: right;\">\n",
       "      <th></th>\n",
       "      <th>itemID</th>\n",
       "      <th>title</th>\n",
       "      <th>brand</th>\n",
       "      <th>rating</th>\n",
       "      <th>number_rating</th>\n",
       "      <th>price</th>\n",
       "      <th>ship</th>\n",
       "      <th>image_url</th>\n",
       "      <th>product_des</th>\n",
       "    </tr>\n",
       "  </thead>\n",
       "  <tbody>\n",
       "    <tr>\n",
       "      <th>0</th>\n",
       "      <td>14-932-580</td>\n",
       "      <td>GIGABYTE GeForce RTX 4070 Ti GAMING OC 12G Gra...</td>\n",
       "      <td>GIGABYTE</td>\n",
       "      <td>4.9</td>\n",
       "      <td>60.0</td>\n",
       "      <td>839.99</td>\n",
       "      <td>0</td>\n",
       "      <td>https://c1.neweggimages.com/ProductImageCompre...</td>\n",
       "      <td>[[' 2640 MHz', ' 7680 x 4320', ' 3 x DisplayPo...</td>\n",
       "    </tr>\n",
       "    <tr>\n",
       "      <th>1</th>\n",
       "      <td>14-932-561</td>\n",
       "      <td>GIGABYTE Gaming GeForce RTX 4080 16GB GDDR6X P...</td>\n",
       "      <td>GIGABYTE</td>\n",
       "      <td>4.3</td>\n",
       "      <td>112.0</td>\n",
       "      <td>1182.59</td>\n",
       "      <td>0</td>\n",
       "      <td>https://c1.neweggimages.com/ProductImageCompre...</td>\n",
       "      <td>[[' 7680 x 4320', ' 3 x DisplayPort 1.4a', ' 1...</td>\n",
       "    </tr>\n",
       "    <tr>\n",
       "      <th>2</th>\n",
       "      <td>9SIAZUEFY85385</td>\n",
       "      <td>Yeston Radeon RX 6800 XT 16GB D6 GDDR6 256bit ...</td>\n",
       "      <td>yeston</td>\n",
       "      <td>4.1</td>\n",
       "      <td>15.0</td>\n",
       "      <td>559.00</td>\n",
       "      <td>0</td>\n",
       "      <td>https://c1.neweggimages.com/ProductImageCompre...</td>\n",
       "      <td>[[' 7680 x 4320', ' 3 x DisplayPort', ' 1 x HD...</td>\n",
       "    </tr>\n",
       "    <tr>\n",
       "      <th>3</th>\n",
       "      <td>14-932-562</td>\n",
       "      <td>GIGABYTE EAGLE OC GeForce RTX 4080 16GB GDDR6X...</td>\n",
       "      <td>GIGABYTE</td>\n",
       "      <td>4.0</td>\n",
       "      <td>42.0</td>\n",
       "      <td>1149.99</td>\n",
       "      <td>0</td>\n",
       "      <td>https://c1.neweggimages.com/ProductImageCompre...</td>\n",
       "      <td>[[' 7680 x 4320', ' 3 x DisplayPort 1.4a', ' 1...</td>\n",
       "    </tr>\n",
       "    <tr>\n",
       "      <th>4</th>\n",
       "      <td>14-137-765</td>\n",
       "      <td>MSI Ventus GeForce RTX 4080 16GB GDDR6X PCI Ex...</td>\n",
       "      <td>MSI</td>\n",
       "      <td>4.6</td>\n",
       "      <td>36.0</td>\n",
       "      <td>1199.00</td>\n",
       "      <td>0</td>\n",
       "      <td>https://c1.neweggimages.com/ProductImageCompre...</td>\n",
       "      <td>[[' 7680 x 4320', ' 3 x DisplayPort 1.4a', ' 1...</td>\n",
       "    </tr>\n",
       "  </tbody>\n",
       "</table>\n",
       "</div>"
      ],
      "text/plain": [
       "           itemID                                              title  \\\n",
       "0      14-932-580  GIGABYTE GeForce RTX 4070 Ti GAMING OC 12G Gra...   \n",
       "1      14-932-561  GIGABYTE Gaming GeForce RTX 4080 16GB GDDR6X P...   \n",
       "2  9SIAZUEFY85385  Yeston Radeon RX 6800 XT 16GB D6 GDDR6 256bit ...   \n",
       "3      14-932-562  GIGABYTE EAGLE OC GeForce RTX 4080 16GB GDDR6X...   \n",
       "4      14-137-765  MSI Ventus GeForce RTX 4080 16GB GDDR6X PCI Ex...   \n",
       "\n",
       "      brand  rating  number_rating    price ship  \\\n",
       "0  GIGABYTE     4.9           60.0   839.99    0   \n",
       "1  GIGABYTE     4.3          112.0  1182.59    0   \n",
       "2    yeston     4.1           15.0   559.00    0   \n",
       "3  GIGABYTE     4.0           42.0  1149.99    0   \n",
       "4       MSI     4.6           36.0  1199.00    0   \n",
       "\n",
       "                                           image_url  \\\n",
       "0  https://c1.neweggimages.com/ProductImageCompre...   \n",
       "1  https://c1.neweggimages.com/ProductImageCompre...   \n",
       "2  https://c1.neweggimages.com/ProductImageCompre...   \n",
       "3  https://c1.neweggimages.com/ProductImageCompre...   \n",
       "4  https://c1.neweggimages.com/ProductImageCompre...   \n",
       "\n",
       "                                         product_des  \n",
       "0  [[' 2640 MHz', ' 7680 x 4320', ' 3 x DisplayPo...  \n",
       "1  [[' 7680 x 4320', ' 3 x DisplayPort 1.4a', ' 1...  \n",
       "2  [[' 7680 x 4320', ' 3 x DisplayPort', ' 1 x HD...  \n",
       "3  [[' 7680 x 4320', ' 3 x DisplayPort 1.4a', ' 1...  \n",
       "4  [[' 7680 x 4320', ' 3 x DisplayPort 1.4a', ' 1...  "
      ]
     },
     "execution_count": 25,
     "metadata": {},
     "output_type": "execute_result"
    }
   ],
   "source": [
    "df.head()"
   ]
  },
  {
   "cell_type": "code",
   "execution_count": null,
   "id": "7564d1a0",
   "metadata": {},
   "outputs": [],
   "source": []
  }
 ],
 "metadata": {
  "kernelspec": {
   "display_name": "Python 3 (ipykernel)",
   "language": "python",
   "name": "python3"
  },
  "language_info": {
   "codemirror_mode": {
    "name": "ipython",
    "version": 3
   },
   "file_extension": ".py",
   "mimetype": "text/x-python",
   "name": "python",
   "nbconvert_exporter": "python",
   "pygments_lexer": "ipython3",
   "version": "3.10.9"
  }
 },
 "nbformat": 4,
 "nbformat_minor": 5
}
