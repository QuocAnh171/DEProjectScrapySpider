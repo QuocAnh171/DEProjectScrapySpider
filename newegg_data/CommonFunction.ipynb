{
 "cells": [
  {
   "cell_type": "code",
   "execution_count": 1,
   "id": "57a00d76",
   "metadata": {},
   "outputs": [],
   "source": [
    "# Descriptive Functions"
   ]
  },
  {
   "cell_type": "code",
   "execution_count": 2,
   "id": "5bc8039a",
   "metadata": {},
   "outputs": [],
   "source": [
    "#function to check the shape of the table \n",
    "#only print, no return\n",
    "def table_shape(df):\n",
    "    #how many columns, list the name and types of columns\n",
    "    row_numbers = df.shape[0]\n",
    "    col_numbers = df.shape[1]\n",
    "    print('The table has', row_numbers ,'rows')\n",
    "    print('The table has', col_numbers, 'cols')"
   ]
  },
  {
   "cell_type": "code",
   "execution_count": 3,
   "id": "9924eba7",
   "metadata": {},
   "outputs": [],
   "source": [
    "#function to print out the names and types of each column\n",
    "#only print, no return\n",
    "def col(df):\n",
    "    column_names = df.columns\n",
    "    print(column_names)\n",
    "    column_types = df.dtypes\n",
    "    print(column_types)\n",
    "#check flag"
   ]
  },
  {
   "cell_type": "code",
   "execution_count": 4,
   "id": "78afff08",
   "metadata": {},
   "outputs": [],
   "source": [
    "#a function to check if column has duplicate value \n",
    "#print, return the DF object constians the duplicate rows based on column in the function\n",
    "def check_duplicate(df,column_name) :\n",
    "    col_duplicates = df[column_name].duplicated(keep=False)\n",
    "    duplicate_rows = df[col_duplicates]\n",
    "    is_empty = duplicate_rows.empty\n",
    "    if is_empty:\n",
    "        print('The ', column_name, 'does not have duplicates')\n",
    "    else:\n",
    "        print('The ', column_name, 'has duplicates')\n",
    "    return duplicate_rows\n",
    "\n",
    "#a function to print out if column has duplicate value \n",
    "#print, return None if there is no duplicate, otherwise print\n",
    "def print_duplicate(df,column_name):\n",
    "    duplicates = check_duplicate(df,column_name)\n",
    "    if duplicates.empty:\n",
    "        return None\n",
    "    else:\n",
    "        print(duplicates)"
   ]
  },
  {
   "cell_type": "code",
   "execution_count": 5,
   "id": "b6a55bfb",
   "metadata": {},
   "outputs": [],
   "source": [
    "#function to check if tables have duplicates based on multiple columns \n",
    "#print, return the DF object constians the duplicate rows based on columns in the function\n",
    "def multi_duplicate(df,*args):\n",
    "    list_of_columns = []\n",
    "    for arg in args:\n",
    "        list_of_columns.append(arg)\n",
    "    has_duplicates = df[list_of_columns].duplicated(keep=False)\n",
    "    duplicated_rows = df[has_duplicates]\n",
    "    is_empty = duplicated_rows.empty\n",
    "    \n",
    "    if is_empty:\n",
    "        print(\"There are no duplicates in columns: \" , *args)\n",
    "    else:\n",
    "        print(\"There are duplicates in columns: \", *args)\n",
    "        \n",
    "    return duplicated_rows\n",
    "\n",
    "#a function to print out if columns have duplicate values \n",
    "#print, return None if there is no duplicate, otherwise print\n",
    "def print_multi_duplicate(df,*args):\n",
    "    duplicates = multi_duplicate(df,*args)\n",
    "    if duplicates.empty:\n",
    "        return None\n",
    "    else:\n",
    "        print(duplicates)"
   ]
  },
  {
   "cell_type": "code",
   "execution_count": 6,
   "id": "22c71b02",
   "metadata": {},
   "outputs": [],
   "source": [
    "#check if columns has empty rows and count how many rows\n",
    "#print the results, return the the DataFrame object which has the emtpy cells on the column in the functions\n",
    "\n",
    "def check_empty(df,col):\n",
    "    #count the number of empty cells\n",
    "    \n",
    "    empty_cell = df[col].isnull()\n",
    "    empty_sum = empty_cell.sum()\n",
    "    empty_df = df[empty_cell]\n",
    "    \n",
    "    if empty_sum == 0:\n",
    "        print('There is no empty cell in ', col, 'column')\n",
    "    else:\n",
    "        print('There are empty cells in the', col, ' column')\n",
    "    \n",
    "    return empty_df\n",
    "\n",
    "#print function \n",
    "def print_empty(df,col):\n",
    "    emtpy = check_empty(df,col)\n",
    "    print(emtpy)\n",
    "    \n",
    "#check multiple cols\n",
    "def multi_check_empty(df, *cols):\n",
    "    for col in cols:\n",
    "        check_empty(df,col)"
   ]
  },
  {
   "cell_type": "code",
   "execution_count": 7,
   "id": "4db486bf",
   "metadata": {},
   "outputs": [],
   "source": [
    "#count the unique values of each column\n",
    "# return print, return the unique values of the columns AS ARRAY\n",
    "def count_unique(df,col,no_unique_value):\n",
    "    #return ARRAY of unique values\n",
    "    num_unique_value = df[col].nunique()\n",
    "    if num_unique_value == 0:\n",
    "        print(\"Can not categorize since there are no unique values\")\n",
    "    elif num_unique_value >0 and num_unique_value <= no_unique_value:\n",
    "        unique_values = df[col].unique()\n",
    "        print(\"Can categorize into \", unique_values)\n",
    "    else:\n",
    "        print(\"Can not categorized since it has so many types\")\n",
    "    return num_unique_value"
   ]
  },
  {
   "cell_type": "code",
   "execution_count": null,
   "id": "8b56e9bc",
   "metadata": {},
   "outputs": [],
   "source": []
  },
  {
   "cell_type": "code",
   "execution_count": 8,
   "id": "0abd7e66",
   "metadata": {},
   "outputs": [],
   "source": [
    "# FUNCTIONS TO DRAW PLOTS"
   ]
  },
  {
   "cell_type": "code",
   "execution_count": 9,
   "id": "f75f3bdf",
   "metadata": {},
   "outputs": [
    {
     "name": "stderr",
     "output_type": "stream",
     "text": [
      "Matplotlib is building the font cache; this may take a moment.\n"
     ]
    }
   ],
   "source": [
    "import matplotlib.pyplot as plt"
   ]
  },
  {
   "cell_type": "code",
   "execution_count": 10,
   "id": "747af9ed",
   "metadata": {},
   "outputs": [],
   "source": [
    "#a function for bar plot\n",
    "def bar_plot(categories, values,figsize=(10,6), xlabel=None, ylabel=None, title=None, rotation=None):\n",
    "    plt.figure(figsize=figsize)\n",
    "    plt.bar(categories, values)\n",
    "    plt.xlabel(xlabel)\n",
    "    plt.ylabel(ylabel)\n",
    "    plt.title(title)\n",
    "    plt.xticks(rotation=rotation)\n",
    "    plt.show()"
   ]
  },
  {
   "cell_type": "code",
   "execution_count": 11,
   "id": "10c236de",
   "metadata": {},
   "outputs": [],
   "source": [
    "# a function for box plot for each group of the data\n",
    "def box_plot_by_group(data,column,by=None,xlabel=None,ylabel=None, title=None,rotation=None):\n",
    "    if by:\n",
    "        data.boxplot(column=column,by=by)\n",
    "    else:\n",
    "        data.boxplot(column=column)\n",
    "    plt.xlabel(xlabel)\n",
    "    plt.ylabel(ylabel)\n",
    "    plt.title(title)\n",
    "    plt.xticks(rotation=rotation)\n",
    "    plt.show()"
   ]
  },
  {
   "cell_type": "code",
   "execution_count": 12,
   "id": "aa94397d",
   "metadata": {},
   "outputs": [],
   "source": [
    "#a function to draw pie chart\n",
    "def pie_chart(data, labels, title=None):\n",
    "    plt.pie(data, labels=labels, autopct='%1.1f%%', startangle=90)\n",
    "    plt.axis('equal')\n",
    "    plt.title(title)\n",
    "    plt.show()"
   ]
  },
  {
   "cell_type": "code",
   "execution_count": null,
   "id": "985b6198",
   "metadata": {},
   "outputs": [],
   "source": []
  }
 ],
 "metadata": {
  "kernelspec": {
   "display_name": "Python 3 (ipykernel)",
   "language": "python",
   "name": "python3"
  },
  "language_info": {
   "codemirror_mode": {
    "name": "ipython",
    "version": 3
   },
   "file_extension": ".py",
   "mimetype": "text/x-python",
   "name": "python",
   "nbconvert_exporter": "python",
   "pygments_lexer": "ipython3",
   "version": "3.10.9"
  }
 },
 "nbformat": 4,
 "nbformat_minor": 5
}
